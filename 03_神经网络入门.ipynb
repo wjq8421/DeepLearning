{
 "cells": [
  {
   "cell_type": "markdown",
   "metadata": {},
   "source": [
    "训练神经网络主要围绕的方面：\n",
    "1. 层，多个层组合成网络（模型）；\n",
    "2. 输入数据和相应的目标；\n",
    "3. 损失函数，即用于学习的反馈信号；\n",
    "4. 优化器，决定学习过程如何进行。"
   ]
  },
  {
   "cell_type": "markdown",
   "metadata": {
    "ExecuteTime": {
     "end_time": "2019-05-28T08:21:39.624558Z",
     "start_time": "2019-05-28T08:21:39.617557Z"
    }
   },
   "source": [
    "_________\n",
    "层兼容性：指每一层只接受特定形状的输入张量，并返回特定形状的输出张量。在Keras中，无须担心兼容性，因为向模型中添加的层都会自动匹配输入层的形状。"
   ]
  },
  {
   "cell_type": "markdown",
   "metadata": {},
   "source": [
    "- 对于二分类问题，可使用二元交叉熵（binary crossentropy）损失函数；\n",
    "- 对于多分类问题，可使用分类交叉熵（categorical crossentropy）损失函数；\n",
    "- 对于回归问题，可使用均方误差（mean-squared error）损失函数；\n",
    "- 对于序列学习问题，可使用联结主义时序分类（CTC，connectionist temporal classification）损失函数。"
   ]
  },
  {
   "cell_type": "markdown",
   "metadata": {},
   "source": [
    "______\n",
    "哪种类型的网络架构适合解决哪种类型的问题？如何选择正确的学习配置？如何调节模型使其给出你想要的结果？"
   ]
  },
  {
   "cell_type": "markdown",
   "metadata": {},
   "source": [
    "#### 电影评论分类_二分类"
   ]
  },
  {
   "cell_type": "code",
   "execution_count": 33,
   "metadata": {
    "ExecuteTime": {
     "end_time": "2019-05-30T06:34:34.918279Z",
     "start_time": "2019-05-30T06:34:30.647034Z"
    }
   },
   "outputs": [],
   "source": [
    "from keras.datasets import imdb\n",
    "\n",
    "(train_data, train_labels), (test_data, test_labels) = imdb.load_data(num_words=10000)"
   ]
  },
  {
   "cell_type": "code",
   "execution_count": 34,
   "metadata": {
    "ExecuteTime": {
     "end_time": "2019-05-30T06:34:36.210353Z",
     "start_time": "2019-05-30T06:34:36.203352Z"
    }
   },
   "outputs": [
    {
     "data": {
      "text/plain": [
       "(25000,)"
      ]
     },
     "execution_count": 34,
     "metadata": {},
     "output_type": "execute_result"
    }
   ],
   "source": [
    "train_data.shape"
   ]
  },
  {
   "cell_type": "markdown",
   "metadata": {},
   "source": [
    "- 将评论解码为英文单词"
   ]
  },
  {
   "cell_type": "code",
   "execution_count": 35,
   "metadata": {
    "ExecuteTime": {
     "end_time": "2019-05-30T06:34:38.540486Z",
     "start_time": "2019-05-30T06:34:38.411479Z"
    }
   },
   "outputs": [
    {
     "data": {
      "text/plain": [
       "\"? this film was just brilliant casting location scenery story direction everyone's really suited the part they played and you could just imagine being there robert ? is an amazing actor and now the same being director ? father came from the same scottish island as myself so i loved the fact there was a real connection with this film the witty remarks throughout the film were great it was just brilliant so much that i bought the film as soon as it was released for ? and would recommend it to everyone to watch and the fly fishing was amazing really cried at the end it was so sad and you know what they say if you cry at a film it must have been good and this definitely was also ? to the two little boy's that played the ? of norman and paul they were just brilliant children are often left out of the ? list i think because the stars that play them all grown up are such a big profile for the whole film but these children are amazing and should be praised for what they have done don't you think the whole story was so lovely because it was true and was someone's life after all that was shared with us all\""
      ]
     },
     "execution_count": 35,
     "metadata": {},
     "output_type": "execute_result"
    }
   ],
   "source": [
    "word_index = imdb.get_word_index()\n",
    "reverse_word_index = dict([(value, key) for (key, value) in word_index.items()])\n",
    "decoded_review = ' '.join([reverse_word_index.get(i-3, '?') for i in train_data[0]])\n",
    "decoded_review"
   ]
  },
  {
   "cell_type": "markdown",
   "metadata": {},
   "source": [
    "将数据转换为张量：\n",
    "1. 填充列表，使其具有相同的长度，再将列表转换成形状为(samples, word_indices)的整数张量，然后网络第一层使用能处理这种整数张量的层，如Embedding层。\n",
    "2. 对列表进行one-hot编码，将其转换为0和1组成的向量，然后网络第一层可以用Dense层。"
   ]
  },
  {
   "cell_type": "code",
   "execution_count": 36,
   "metadata": {
    "ExecuteTime": {
     "end_time": "2019-05-30T06:34:42.764728Z",
     "start_time": "2019-05-30T06:34:40.838617Z"
    }
   },
   "outputs": [],
   "source": [
    "import numpy as np\n",
    "\n",
    "def vectorize_sequences(sequences, dimension=10000):\n",
    "    results = np.zeros((len(sequences), dimension))\n",
    "    for i, sequence in enumerate(sequences):\n",
    "        results[i, sequence] = 1.\n",
    "    return results\n",
    "\n",
    "x_train = vectorize_sequences(train_data)\n",
    "x_test = vectorize_sequences(test_data)\n",
    "\n",
    "y_train = np.asarray(train_labels).astype('float32')\n",
    "y_test = np.asarray(test_labels).astype('float32')"
   ]
  },
  {
   "cell_type": "code",
   "execution_count": 37,
   "metadata": {
    "ExecuteTime": {
     "end_time": "2019-05-30T06:34:45.343875Z",
     "start_time": "2019-05-30T06:34:45.334875Z"
    }
   },
   "outputs": [
    {
     "data": {
      "text/plain": [
       "(25000, 10000)"
      ]
     },
     "execution_count": 37,
     "metadata": {},
     "output_type": "execute_result"
    }
   ],
   "source": [
    "x_train.shape"
   ]
  },
  {
   "cell_type": "code",
   "execution_count": 38,
   "metadata": {
    "ExecuteTime": {
     "end_time": "2019-05-30T06:36:11.111781Z",
     "start_time": "2019-05-30T06:36:11.059778Z"
    }
   },
   "outputs": [],
   "source": [
    "from keras import models\n",
    "from keras import layers\n",
    "\n",
    "model = models.Sequential()\n",
    "model.add(layers.Dense(512, activation='relu', input_shape=(10000,)))\n",
    "model.add(layers.Dense(512, activation='relu'))\n",
    "model.add(layers.Dense(1, activation='sigmoid'))"
   ]
  },
  {
   "cell_type": "markdown",
   "metadata": {},
   "source": [
    "如果没有relu等激活函数（也叫非线性），Dense层将只包含两个线性运算——点积和加法。这样Dense层就只能学习输入数据的线性变换（仿射变换）。这种假设空间非常有限，无法利用多个表示层的优势，因为多个线性层堆叠实现的仍是线性运算，添加层数并不会扩展假设空间。"
   ]
  },
  {
   "cell_type": "code",
   "execution_count": 39,
   "metadata": {
    "ExecuteTime": {
     "end_time": "2019-05-30T06:36:13.978945Z",
     "start_time": "2019-05-30T06:36:13.917941Z"
    }
   },
   "outputs": [],
   "source": [
    "model.compile(optimizer='rmsprop', loss='binary_crossentropy', metrics=['accuracy'])"
   ]
  },
  {
   "cell_type": "code",
   "execution_count": 40,
   "metadata": {
    "ExecuteTime": {
     "end_time": "2019-05-30T06:36:15.617038Z",
     "start_time": "2019-05-30T06:36:15.613038Z"
    }
   },
   "outputs": [],
   "source": [
    "x_val = x_train[:10000]\n",
    "partial_x_train = x_train[10000:]\n",
    "\n",
    "y_val = y_train[:10000]\n",
    "partial_y_train = y_train[10000:]"
   ]
  },
  {
   "cell_type": "code",
   "execution_count": 41,
   "metadata": {
    "ExecuteTime": {
     "end_time": "2019-05-30T06:38:23.391347Z",
     "start_time": "2019-05-30T06:36:17.467144Z"
    }
   },
   "outputs": [
    {
     "name": "stdout",
     "output_type": "stream",
     "text": [
      "Train on 15000 samples, validate on 10000 samples\n",
      "Epoch 1/20\n",
      "15000/15000 [==============================] - 8s 505us/step - loss: 0.5420 - acc: 0.7512 - val_loss: 0.2939 - val_acc: 0.8838\n",
      "Epoch 2/20\n",
      "15000/15000 [==============================] - 6s 412us/step - loss: 0.2646 - acc: 0.8964 - val_loss: 0.2723 - val_acc: 0.8884\n",
      "Epoch 3/20\n",
      "15000/15000 [==============================] - 6s 417us/step - loss: 0.1535 - acc: 0.9428 - val_loss: 0.2962 - val_acc: 0.8887\n",
      "Epoch 4/20\n",
      "15000/15000 [==============================] - 6s 413us/step - loss: 0.0823 - acc: 0.9717 - val_loss: 0.3629 - val_acc: 0.8897\n",
      "Epoch 5/20\n",
      "15000/15000 [==============================] - 6s 418us/step - loss: 0.1166 - acc: 0.9764 - val_loss: 0.3326 - val_acc: 0.8885\n",
      "Epoch 6/20\n",
      "15000/15000 [==============================] - 6s 416us/step - loss: 0.0048 - acc: 0.9996 - val_loss: 0.4795 - val_acc: 0.8888\n",
      "Epoch 7/20\n",
      "15000/15000 [==============================] - 6s 422us/step - loss: 7.0267e-04 - acc: 1.0000 - val_loss: 0.5684 - val_acc: 0.8888\n",
      "Epoch 8/20\n",
      "15000/15000 [==============================] - 6s 413us/step - loss: 9.7617e-05 - acc: 1.0000 - val_loss: 0.6573 - val_acc: 0.8875\n",
      "Epoch 9/20\n",
      "15000/15000 [==============================] - 6s 416us/step - loss: 1.6150e-05 - acc: 1.0000 - val_loss: 0.7282 - val_acc: 0.8868\n",
      "Epoch 10/20\n",
      "15000/15000 [==============================] - 6s 420us/step - loss: 3.6056e-06 - acc: 1.0000 - val_loss: 0.7947 - val_acc: 0.8885\n",
      "Epoch 11/20\n",
      "15000/15000 [==============================] - 6s 410us/step - loss: 1.0877e-06 - acc: 1.0000 - val_loss: 0.8377 - val_acc: 0.8895\n",
      "Epoch 12/20\n",
      "15000/15000 [==============================] - 6s 413us/step - loss: 3.8815e-07 - acc: 1.0000 - val_loss: 0.8724 - val_acc: 0.8863\n",
      "Epoch 13/20\n",
      "15000/15000 [==============================] - 6s 411us/step - loss: 2.0254e-07 - acc: 1.0000 - val_loss: 0.9027 - val_acc: 0.8874\n",
      "Epoch 14/20\n",
      "15000/15000 [==============================] - 6s 410us/step - loss: 1.4353e-07 - acc: 1.0000 - val_loss: 0.9234 - val_acc: 0.8878\n",
      "Epoch 15/20\n",
      "15000/15000 [==============================] - 6s 410us/step - loss: 1.2530e-07 - acc: 1.0000 - val_loss: 0.9369 - val_acc: 0.8878\n",
      "Epoch 16/20\n",
      "15000/15000 [==============================] - 6s 418us/step - loss: 1.1835e-07 - acc: 1.0000 - val_loss: 0.9453 - val_acc: 0.8879\n",
      "Epoch 17/20\n",
      "15000/15000 [==============================] - 6s 413us/step - loss: 1.1518e-07 - acc: 1.0000 - val_loss: 0.9508 - val_acc: 0.8877\n",
      "Epoch 18/20\n",
      "15000/15000 [==============================] - 6s 417us/step - loss: 1.1344e-07 - acc: 1.0000 - val_loss: 0.9554 - val_acc: 0.8874\n",
      "Epoch 19/20\n",
      "15000/15000 [==============================] - 6s 407us/step - loss: 1.1236e-07 - acc: 1.0000 - val_loss: 0.9593 - val_acc: 0.8878\n",
      "Epoch 20/20\n",
      "15000/15000 [==============================] - 6s 412us/step - loss: 1.1176e-07 - acc: 1.0000 - val_loss: 0.9628 - val_acc: 0.8878\n"
     ]
    }
   ],
   "source": [
    "history = model.fit(partial_x_train, partial_y_train, epochs=20, batch_size=512, validation_data=(x_val, y_val))"
   ]
  },
  {
   "cell_type": "code",
   "execution_count": 42,
   "metadata": {
    "ExecuteTime": {
     "end_time": "2019-05-30T06:38:33.192907Z",
     "start_time": "2019-05-30T06:38:33.184907Z"
    }
   },
   "outputs": [
    {
     "data": {
      "text/plain": [
       "dict_keys(['val_loss', 'val_acc', 'loss', 'acc'])"
      ]
     },
     "execution_count": 42,
     "metadata": {},
     "output_type": "execute_result"
    }
   ],
   "source": [
    "history_dict = history.history\n",
    "history_dict.keys()"
   ]
  },
  {
   "cell_type": "code",
   "execution_count": 43,
   "metadata": {
    "ExecuteTime": {
     "end_time": "2019-05-30T06:38:35.094016Z",
     "start_time": "2019-05-30T06:38:34.899005Z"
    }
   },
   "outputs": [
    {
     "data": {
      "image/png": "[encoded data removed]",
      "text/plain": [
       "<Figure size 432x288 with 1 Axes>"
      ]
     },
     "metadata": {
      "needs_background": "light"
     },
     "output_type": "display_data"
    }
   ],
   "source": [
    "import matplotlib.pyplot as plt\n",
    "\n",
    "loss_values = history_dict['loss']\n",
    "val_loss_values = history_dict['val_loss']\n",
    "\n",
    "epochs = range(1, len(loss_values) + 1)\n",
    "\n",
    "plt.plot(epochs, loss_values, 'bo', label='Training loss')\n",
    "plt.plot(epochs, val_loss_values, 'b', label='Validation loss')\n",
    "plt.title('Training and Validation loss')\n",
    "plt.xlabel('Epochs')\n",
    "plt.ylabel('Loss')\n",
    "plt.legend()\n",
    "plt.show()"
   ]
  },
  {
   "cell_type": "code",
   "execution_count": 44,
   "metadata": {
    "ExecuteTime": {
     "end_time": "2019-05-30T06:39:18.982526Z",
     "start_time": "2019-05-30T06:39:18.798516Z"
    }
   },
   "outputs": [
    {
     "data": {
      "image/png": "[encoded data removed]",
      "text/plain": [
       "<Figure size 432x288 with 1 Axes>"
      ]
     },
     "metadata": {
      "needs_background": "light"
     },
     "output_type": "display_data"
    }
   ],
   "source": [
    "acc = history_dict['acc']\n",
    "val_acc = history_dict['val_acc']\n",
    "\n",
    "plt.plot(epochs, acc, 'bo', label='Training acc')\n",
    "plt.plot(epochs, val_acc, 'b', label='Validation acc')\n",
    "plt.title('Training and Validation accuracy')\n",
    "plt.xlabel('Epochs')\n",
    "plt.ylabel('Accuracy')\n",
    "plt.legend()\n",
    "plt.show()"
   ]
  },
  {
   "cell_type": "code",
   "execution_count": 18,
   "metadata": {
    "ExecuteTime": {
     "end_time": "2019-05-29T02:48:53.923981Z",
     "start_time": "2019-05-29T02:48:38.766114Z"
    }
   },
   "outputs": [
    {
     "name": "stdout",
     "output_type": "stream",
     "text": [
      "Epoch 1/4\n",
      "25000/25000 [==============================] - 3s 124us/step - loss: 0.1024 - acc: 0.9719\n",
      "Epoch 2/4\n",
      "25000/25000 [==============================] - 3s 121us/step - loss: 0.0869 - acc: 0.9758\n",
      "Epoch 3/4\n",
      "25000/25000 [==============================] - 3s 122us/step - loss: 0.0732 - acc: 0.9799\n",
      "Epoch 4/4\n",
      "25000/25000 [==============================] - 3s 121us/step - loss: 0.0626 - acc: 0.9828\n",
      "25000/25000 [==============================] - 3s 118us/step\n"
     ]
    }
   ],
   "source": [
    "model.fit(x_train, y_train, epochs=4, batch_size=512)\n",
    "results = model.evaluate(x_test, y_test)"
   ]
  },
  {
   "cell_type": "code",
   "execution_count": 19,
   "metadata": {
    "ExecuteTime": {
     "end_time": "2019-05-29T02:49:00.991385Z",
     "start_time": "2019-05-29T02:49:00.981385Z"
    }
   },
   "outputs": [
    {
     "data": {
      "text/plain": [
       "[0.7063647517418862, 0.84888]"
      ]
     },
     "execution_count": 19,
     "metadata": {},
     "output_type": "execute_result"
    }
   ],
   "source": [
    "results"
   ]
  },
  {
   "cell_type": "code",
   "execution_count": 20,
   "metadata": {
    "ExecuteTime": {
     "end_time": "2019-05-29T02:51:17.697204Z",
     "start_time": "2019-05-29T02:51:14.945047Z"
    }
   },
   "outputs": [
    {
     "data": {
      "text/plain": [
       "array([[0.00279619],\n",
       "       [1.        ],\n",
       "       [0.31160048],\n",
       "       ...,\n",
       "       [0.0890286 ],\n",
       "       [0.03354254],\n",
       "       [0.152453  ]], dtype=float32)"
      ]
     },
     "execution_count": 20,
     "metadata": {},
     "output_type": "execute_result"
    }
   ],
   "source": [
    "model.predict(x_test)"
   ]
  },
  {
   "cell_type": "markdown",
   "metadata": {},
   "source": [
    "1. 需对原数据进行大量预处理，以便将其转换为张量输入到神经网络中。\n",
    "2. 对于二分类问题，网络的最后一层应该是只有一个单元并使用sigmoid激活的Dense层，网络输出应该是$0~1$范围内的标量，表示概率值。\n",
    "3. 一定要一直监控模型在训练集之外的数据上的性能。"
   ]
  },
  {
   "cell_type": "markdown",
   "metadata": {},
   "source": [
    "______\n",
    "#### 新闻分类_单标签、多分类"
   ]
  },
  {
   "cell_type": "code",
   "execution_count": 51,
   "metadata": {
    "ExecuteTime": {
     "end_time": "2019-05-30T07:04:34.052183Z",
     "start_time": "2019-05-30T07:04:33.385145Z"
    }
   },
   "outputs": [],
   "source": [
    "from keras.datasets import reuters\n",
    "\n",
    "(train_data, train_labels), (test_data, test_labels) = reuters.load_data(num_words=10000)"
   ]
  },
  {
   "cell_type": "code",
   "execution_count": 52,
   "metadata": {
    "ExecuteTime": {
     "end_time": "2019-05-30T07:04:35.100243Z",
     "start_time": "2019-05-30T07:04:35.091243Z"
    }
   },
   "outputs": [
    {
     "data": {
      "text/plain": [
       "(8982,)"
      ]
     },
     "execution_count": 52,
     "metadata": {},
     "output_type": "execute_result"
    }
   ],
   "source": [
    "train_data.shape"
   ]
  },
  {
   "cell_type": "code",
   "execution_count": 53,
   "metadata": {
    "ExecuteTime": {
     "end_time": "2019-05-30T07:04:36.496323Z",
     "start_time": "2019-05-30T07:04:36.487323Z"
    }
   },
   "outputs": [
    {
     "data": {
      "text/plain": [
       "array([ 3,  4,  3, ..., 25,  3, 25], dtype=int64)"
      ]
     },
     "execution_count": 53,
     "metadata": {},
     "output_type": "execute_result"
    }
   ],
   "source": [
    "train_labels"
   ]
  },
  {
   "cell_type": "code",
   "execution_count": 54,
   "metadata": {
    "ExecuteTime": {
     "end_time": "2019-05-30T07:04:41.636617Z",
     "start_time": "2019-05-30T07:04:41.241595Z"
    }
   },
   "outputs": [],
   "source": [
    "x_train = vectorize_sequences(train_data)\n",
    "x_test = vectorize_sequences(test_data)\n",
    "\n",
    "def to_one_hot(labels, dimension=46):\n",
    "    results = np.zeros((len(labels), dimension))\n",
    "    for i, label in enumerate(labels):\n",
    "        results[i, label] = 1\n",
    "    return results\n",
    "\n",
    "one_hot_train_labels = to_one_hot(train_labels)\n",
    "one_hot_test_labels = to_one_hot(test_labels)"
   ]
  },
  {
   "cell_type": "code",
   "execution_count": 55,
   "metadata": {
    "ExecuteTime": {
     "end_time": "2019-05-30T07:05:20.608846Z",
     "start_time": "2019-05-30T07:05:20.512841Z"
    }
   },
   "outputs": [],
   "source": [
    "from keras import models\n",
    "from keras import layers\n",
    "\n",
    "model = models.Sequential()\n",
    "model.add(layers.Dense(128, activation='relu', input_shape=(10000,)))\n",
    "model.add(layers.Dropout(0.5))\n",
    "model.add(layers.Dense(64, activation='relu'))\n",
    "model.add(layers.Dropout(0.5))\n",
    "model.add(layers.Dense(46, activation='softmax'))"
   ]
  },
  {
   "cell_type": "code",
   "execution_count": 56,
   "metadata": {
    "ExecuteTime": {
     "end_time": "2019-05-30T07:05:22.198937Z",
     "start_time": "2019-05-30T07:05:22.129933Z"
    }
   },
   "outputs": [],
   "source": [
    "model.compile(optimizer='rmsprop', loss='categorical_crossentropy', metrics=['accuracy'])"
   ]
  },
  {
   "cell_type": "code",
   "execution_count": 57,
   "metadata": {
    "ExecuteTime": {
     "end_time": "2019-05-30T07:06:05.860435Z",
     "start_time": "2019-05-30T07:05:23.752026Z"
    }
   },
   "outputs": [
    {
     "name": "stdout",
     "output_type": "stream",
     "text": [
      "Train on 7982 samples, validate on 1000 samples\n",
      "Epoch 1/20\n",
      "7982/7982 [==============================] - 3s 364us/step - loss: 2.1287 - acc: 0.5084 - val_loss: 1.4287 - val_acc: 0.6750\n",
      "Epoch 2/20\n",
      "7982/7982 [==============================] - 2s 256us/step - loss: 1.4480 - acc: 0.6713 - val_loss: 1.2106 - val_acc: 0.7230\n",
      "Epoch 3/20\n",
      "7982/7982 [==============================] - 2s 255us/step - loss: 1.2106 - acc: 0.7220 - val_loss: 1.1075 - val_acc: 0.7580\n",
      "Epoch 4/20\n",
      "7982/7982 [==============================] - 2s 258us/step - loss: 1.0662 - acc: 0.7581 - val_loss: 1.0776 - val_acc: 0.7660\n",
      "Epoch 5/20\n",
      "7982/7982 [==============================] - 2s 254us/step - loss: 0.9297 - acc: 0.7818 - val_loss: 1.0128 - val_acc: 0.7840\n",
      "Epoch 6/20\n",
      "7982/7982 [==============================] - 2s 256us/step - loss: 0.8333 - acc: 0.8051 - val_loss: 0.9998 - val_acc: 0.7980\n",
      "Epoch 7/20\n",
      "7982/7982 [==============================] - 2s 255us/step - loss: 0.7624 - acc: 0.8218 - val_loss: 1.0000 - val_acc: 0.7980\n",
      "Epoch 8/20\n",
      "7982/7982 [==============================] - 2s 256us/step - loss: 0.6969 - acc: 0.8346 - val_loss: 0.9802 - val_acc: 0.8090\n",
      "Epoch 9/20\n",
      "7982/7982 [==============================] - 2s 255us/step - loss: 0.6399 - acc: 0.8420 - val_loss: 0.9880 - val_acc: 0.8130\n",
      "Epoch 10/20\n",
      "7982/7982 [==============================] - 2s 254us/step - loss: 0.5971 - acc: 0.8553 - val_loss: 1.0128 - val_acc: 0.8160\n",
      "Epoch 11/20\n",
      "7982/7982 [==============================] - 2s 255us/step - loss: 0.5440 - acc: 0.8642 - val_loss: 1.0404 - val_acc: 0.8130\n",
      "Epoch 12/20\n",
      "7982/7982 [==============================] - 2s 258us/step - loss: 0.5185 - acc: 0.8743 - val_loss: 1.0306 - val_acc: 0.8180\n",
      "Epoch 13/20\n",
      "7982/7982 [==============================] - 2s 258us/step - loss: 0.4854 - acc: 0.8821 - val_loss: 1.0515 - val_acc: 0.8130\n",
      "Epoch 14/20\n",
      "7982/7982 [==============================] - 2s 256us/step - loss: 0.4628 - acc: 0.8824 - val_loss: 1.0749 - val_acc: 0.8170\n",
      "Epoch 15/20\n",
      "7982/7982 [==============================] - 2s 257us/step - loss: 0.4363 - acc: 0.8926 - val_loss: 1.0840 - val_acc: 0.8190\n",
      "Epoch 16/20\n",
      "7982/7982 [==============================] - 2s 254us/step - loss: 0.4138 - acc: 0.8973 - val_loss: 1.1061 - val_acc: 0.8170\n",
      "Epoch 17/20\n",
      "7982/7982 [==============================] - 2s 259us/step - loss: 0.3890 - acc: 0.8966 - val_loss: 1.1472 - val_acc: 0.8150\n",
      "Epoch 18/20\n",
      "7982/7982 [==============================] - 2s 255us/step - loss: 0.3839 - acc: 0.9070 - val_loss: 1.1492 - val_acc: 0.8200\n",
      "Epoch 19/20\n",
      "7982/7982 [==============================] - 2s 256us/step - loss: 0.3599 - acc: 0.9099 - val_loss: 1.1658 - val_acc: 0.8110\n",
      "Epoch 20/20\n",
      "7982/7982 [==============================] - 2s 257us/step - loss: 0.3593 - acc: 0.9069 - val_loss: 1.2017 - val_acc: 0.8160\n"
     ]
    }
   ],
   "source": [
    "x_val = x_train[:1000]\n",
    "partial_x_train = x_train[1000:]\n",
    "\n",
    "y_val = one_hot_train_labels[:1000]\n",
    "partial_y_train = one_hot_train_labels[1000:]\n",
    "\n",
    "history = model.fit(partial_x_train, partial_y_train, epochs=20, batch_size=128, validation_data=(x_val, y_val))\n"
   ]
  },
  {
   "cell_type": "code",
   "execution_count": 58,
   "metadata": {
    "ExecuteTime": {
     "end_time": "2019-05-30T07:06:15.626993Z",
     "start_time": "2019-05-30T07:06:15.417981Z"
    }
   },
   "outputs": [
    {
     "data": {
      "image/png": "[encoded data removed]",
      "text/plain": [
       "<Figure size 432x288 with 1 Axes>"
      ]
     },
     "metadata": {
      "needs_background": "light"
     },
     "output_type": "display_data"
    }
   ],
   "source": [
    "loss = history.history['loss']\n",
    "val_loss = history.history['val_loss']\n",
    "\n",
    "epochs = range(1, len(loss) + 1)\n",
    "plt.plot(epochs, loss, 'bo', label='Training loss')\n",
    "plt.plot(epochs, val_loss, 'b', label='Validation loss')\n",
    "plt.title('Training and Validation loss')\n",
    "plt.xlabel('Epochs')\n",
    "plt.ylabel('Loss')\n",
    "plt.legend()\n",
    "plt.show()"
   ]
  },
  {
   "cell_type": "code",
   "execution_count": 59,
   "metadata": {
    "ExecuteTime": {
     "end_time": "2019-05-30T07:06:29.328777Z",
     "start_time": "2019-05-30T07:06:29.115765Z"
    }
   },
   "outputs": [
    {
     "data": {
      "image/png": "[encoded data removed]",
      "text/plain": [
       "<Figure size 432x288 with 1 Axes>"
      ]
     },
     "metadata": {
      "needs_background": "light"
     },
     "output_type": "display_data"
    }
   ],
   "source": [
    "acc = history.history['acc']\n",
    "val_acc = history.history['val_acc']\n",
    "plt.plot(epochs, acc, 'bo', label='Training acc')\n",
    "plt.plot(epochs, val_acc, 'b', label='Validation acc')\n",
    "plt.xlabel('Epochs')\n",
    "plt.ylabel('Accuracy')\n",
    "plt.legend()\n",
    "plt.show()"
   ]
  },
  {
   "cell_type": "code",
   "execution_count": 59,
   "metadata": {
    "ExecuteTime": {
     "end_time": "2019-05-29T08:48:04.258590Z",
     "start_time": "2019-05-29T08:47:52.337908Z"
    }
   },
   "outputs": [
    {
     "name": "stdout",
     "output_type": "stream",
     "text": [
      "Epoch 1/5\n",
      "8982/8982 [==============================] - 3s 281us/step - loss: 1.5861 - acc: 0.6539\n",
      "Epoch 2/5\n",
      "8982/8982 [==============================] - 2s 231us/step - loss: 0.8217 - acc: 0.8161\n",
      "Epoch 3/5\n",
      "8982/8982 [==============================] - 2s 232us/step - loss: 0.5079 - acc: 0.8907\n",
      "Epoch 4/5\n",
      "8982/8982 [==============================] - 2s 233us/step - loss: 0.3364 - acc: 0.9272\n",
      "Epoch 5/5\n",
      "8982/8982 [==============================] - 2s 231us/step - loss: 0.2569 - acc: 0.9428\n",
      "2246/2246 [==============================] - 1s 236us/step\n"
     ]
    }
   ],
   "source": [
    "model = models.Sequential()\n",
    "model.add(layers.Dense(128, activation='relu', input_shape=(10000,)))\n",
    "model.add(layers.Dense(64, activation='relu'))\n",
    "model.add(layers.Dense(64, activation='relu'))\n",
    "model.add(layers.Dense(46, activation='softmax'))\n",
    "\n",
    "model.compile(optimizer='rmsprop', loss='categorical_crossentropy', metrics=['accuracy'])\n",
    "model.fit(x_train, one_hot_train_labels, epochs=5, batch_size=128)\n",
    "results = model.evaluate(x_test, one_hot_test_labels)"
   ]
  },
  {
   "cell_type": "code",
   "execution_count": 60,
   "metadata": {
    "ExecuteTime": {
     "end_time": "2019-05-29T08:48:08.211816Z",
     "start_time": "2019-05-29T08:48:08.201815Z"
    }
   },
   "outputs": [
    {
     "data": {
      "text/plain": [
       "[1.1229057339611377, 0.7818343722172751]"
      ]
     },
     "execution_count": 60,
     "metadata": {},
     "output_type": "execute_result"
    }
   ],
   "source": [
    "results"
   ]
  },
  {
   "cell_type": "code",
   "execution_count": 61,
   "metadata": {
    "ExecuteTime": {
     "end_time": "2019-05-29T08:48:11.670013Z",
     "start_time": "2019-05-29T08:48:11.088980Z"
    }
   },
   "outputs": [],
   "source": [
    "predictions = model.predict(x_test)"
   ]
  },
  {
   "cell_type": "markdown",
   "metadata": {},
   "source": [
    "1. 若对$N$个类别的数据点进行分类，网络的最后一层应该是大小为$N$的Dense层。\n",
    "\n",
    "处理多分类问题的标签的方法：\n",
    "1. 通过分类编码（one-hot编码）对标签进行编码，然后使用categorical_crossentropy作为损失函数；\n",
    "2. 将标签编码为整数，然后使用sparse_categorical_crossentropy损失函数。\n",
    "\n",
    "如果需要将数据划分到许多类别中，应避免使用太小的中间层，以免在网络中造成信息瓶颈。"
   ]
  },
  {
   "cell_type": "markdown",
   "metadata": {},
   "source": [
    "______\n",
    "#### 预测房价_回归问题"
   ]
  },
  {
   "cell_type": "code",
   "execution_count": 3,
   "metadata": {
    "ExecuteTime": {
     "end_time": "2019-05-29T09:47:18.681891Z",
     "start_time": "2019-05-29T09:47:15.719721Z"
    }
   },
   "outputs": [
    {
     "name": "stderr",
     "output_type": "stream",
     "text": [
      "Using TensorFlow backend.\n"
     ]
    }
   ],
   "source": [
    "from keras.datasets import boston_housing\n",
    "\n",
    "(train_data, train_targets), (test_data, test_targets) = boston_housing.load_data()"
   ]
  },
  {
   "cell_type": "code",
   "execution_count": 4,
   "metadata": {
    "ExecuteTime": {
     "end_time": "2019-05-29T09:47:19.926962Z",
     "start_time": "2019-05-29T09:47:19.904961Z"
    }
   },
   "outputs": [
    {
     "data": {
      "text/plain": [
       "(404, 13)"
      ]
     },
     "execution_count": 4,
     "metadata": {},
     "output_type": "execute_result"
    }
   ],
   "source": [
    "train_data.shape"
   ]
  },
  {
   "cell_type": "markdown",
   "metadata": {
    "ExecuteTime": {
     "end_time": "2019-05-29T09:03:07.254238Z",
     "start_time": "2019-05-29T09:03:07.237237Z"
    }
   },
   "source": [
    "对每个特征做标准化，即对于输入数据的每个特征（输入数据矩阵中的列），减去特征平均值、再除以标准差，这样得到的特征平均值为0，标准差为1。\n",
    "\n",
    "- 用于测试数据标准化的均值和标准差都是在训练数据上计算得到的。在工作流程中，你不能使用在测试数据上计算得到的任何结果，即使是像数据标准化这么简单的事情也不行。"
   ]
  },
  {
   "cell_type": "code",
   "execution_count": 5,
   "metadata": {
    "ExecuteTime": {
     "end_time": "2019-05-29T09:47:21.702064Z",
     "start_time": "2019-05-29T09:47:21.693063Z"
    }
   },
   "outputs": [],
   "source": [
    "mean = train_data.mean(axis=0)\n",
    "train_data -= mean\n",
    "std = train_data.std(axis=0)\n",
    "train_data /= std\n",
    "\n",
    "test_data -= mean\n",
    "test_data /= std"
   ]
  },
  {
   "cell_type": "code",
   "execution_count": 6,
   "metadata": {
    "ExecuteTime": {
     "end_time": "2019-05-29T09:47:23.375159Z",
     "start_time": "2019-05-29T09:47:23.368159Z"
    }
   },
   "outputs": [],
   "source": [
    "from keras import models\n",
    "from keras import layers\n",
    "\n",
    "def build_model():\n",
    "    model = models.Sequential()\n",
    "    model.add(layers.Dense(64, activation='relu', input_shape=(13,)))\n",
    "    model.add(layers.Dense(64, activation='relu'))\n",
    "    model.add(layers.Dense(1))\n",
    "    model.compile(optimizer='rmsprop', loss='mse', metrics=['mae'])\n",
    "    return model"
   ]
  },
  {
   "cell_type": "markdown",
   "metadata": {},
   "source": [
    "由于数据点很少，验证集会非常小。验证集的划分方式可能会造成验证分数上有很大的方差，这样就无法对模型进行可靠的评估。此时，最佳做法是使用**K折交叉验证**。\n",
    "> 将可用数据划分为K（取4、或5）个分区，实例化K个相同的模型，将每个模型在K-1个分区上训练，并在剩下的一个分区上进行评估。模型的验证分数等于K个验证分数的平均值。"
   ]
  },
  {
   "cell_type": "code",
   "execution_count": 21,
   "metadata": {
    "ExecuteTime": {
     "end_time": "2019-05-30T02:21:35.123044Z",
     "start_time": "2019-05-30T02:13:44.048100Z"
    },
    "scrolled": true
   },
   "outputs": [
    {
     "name": "stdout",
     "output_type": "stream",
     "text": [
      "processing fold  0\n",
      "processing fold  1\n",
      "processing fold  2\n",
      "processing fold  3\n"
     ]
    }
   ],
   "source": [
    "import numpy as np\n",
    "\n",
    "# 训练500轮次，并记录模型在每轮的表现\n",
    "k = 4\n",
    "num_val_samples = len(train_data) // k\n",
    "num_epochs = 500\n",
    "all_mae_histories = []\n",
    "\n",
    "for i in range(k):\n",
    "    print('processing fold ', i)\n",
    "    val_data = train_data[i * num_val_samples: (i+1) * num_val_samples]\n",
    "    val_targets = train_targets[i * num_val_samples: (i+1) * num_val_samples]\n",
    "    \n",
    "    partial_train_data = np.concatenate([train_data[: i * num_val_samples], train_data[(i+1) * num_val_samples:]], axis=0)\n",
    "    partial_train_targets = np.concatenate([train_targets[:i * num_val_samples], train_targets[(i+1) * num_val_samples:]], axis=0)\n",
    "    \n",
    "    model = build_model()\n",
    "    history = model.fit(partial_train_data, partial_train_targets, epochs=num_epochs, batch_size=1, verbose=0, validation_data=(val_data, val_targets))\n",
    "    mae_history = history.history['val_mean_absolute_error']\n",
    "    all_mae_histories.append(mae_history)"
   ]
  },
  {
   "cell_type": "code",
   "execution_count": 28,
   "metadata": {
    "ExecuteTime": {
     "end_time": "2019-05-30T02:36:47.582234Z",
     "start_time": "2019-05-30T02:36:47.402224Z"
    }
   },
   "outputs": [
    {
     "data": {
      "image/png": "[encoded data removed]",
      "text/plain": [
       "<Figure size 432x288 with 1 Axes>"
      ]
     },
     "metadata": {
      "needs_background": "light"
     },
     "output_type": "display_data"
    }
   ],
   "source": [
    "average_mae_history = [np.mean([x[i] for x in all_mae_histories]) for i in range(num_epochs)]\n",
    "\n",
    "import matplotlib.pyplot as plt\n",
    "\n",
    "plt.plot(range(1, len(average_mae_history) + 1), average_mae_history)\n",
    "plt.xlabel('Epochs')\n",
    "plt.ylabel('Validation MAE')\n",
    "plt.show()"
   ]
  },
  {
   "cell_type": "markdown",
   "metadata": {},
   "source": [
    "1. 删除前10个数据点，因为它们的取值范围与曲线上的其他点不同；\n",
    "2. 将每个数据点替换为前面数据点的指数移动平均值，以得到光滑的曲线。"
   ]
  },
  {
   "cell_type": "code",
   "execution_count": 29,
   "metadata": {
    "ExecuteTime": {
     "end_time": "2019-05-30T02:44:06.436335Z",
     "start_time": "2019-05-30T02:44:06.258325Z"
    }
   },
   "outputs": [
    {
     "data": {
      "image/png": "[encoded data removed]",
      "text/plain": [
       "<Figure size 432x288 with 1 Axes>"
      ]
     },
     "metadata": {
      "needs_background": "light"
     },
     "output_type": "display_data"
    }
   ],
   "source": [
    "def smooth_curve(points, factor=0.9):\n",
    "    smoothed_points = []\n",
    "    for point in points:\n",
    "        if smoothed_points:\n",
    "            previous = smoothed_points[-1]\n",
    "            smoothed_points.append(previous * factor + point * (1 - factor))\n",
    "        else:\n",
    "            smoothed_points.append(point)\n",
    "    return smoothed_points\n",
    "\n",
    "smooth_mae_history = smooth_curve(average_mae_history[10:])\n",
    "\n",
    "plt.plot(range(1, len(smooth_mae_history) + 1), smooth_mae_history)\n",
    "plt.xlabel('Epochs')\n",
    "plt.ylabel('Validation MAE')\n",
    "plt.show()"
   ]
  },
  {
   "cell_type": "code",
   "execution_count": 31,
   "metadata": {
    "ExecuteTime": {
     "end_time": "2019-05-30T02:51:20.013134Z",
     "start_time": "2019-05-30T02:51:18.311037Z"
    },
    "scrolled": true
   },
   "outputs": [
    {
     "name": "stdout",
     "output_type": "stream",
     "text": [
      "102/102 [==============================] - 0s 1ms/step\n"
     ]
    }
   ],
   "source": [
    "model = build_model()\n",
    "model.fit(train_data, train_targets, epochs=40, batch_size=16, verbose=0)\n",
    "test_mse_score, test_mae_score = model.evaluate(test_data, test_targets)"
   ]
  },
  {
   "cell_type": "code",
   "execution_count": 32,
   "metadata": {
    "ExecuteTime": {
     "end_time": "2019-05-30T02:54:18.861364Z",
     "start_time": "2019-05-30T02:54:18.850363Z"
    }
   },
   "outputs": [
    {
     "data": {
      "text/plain": [
       "2.94465269761927"
      ]
     },
     "execution_count": 32,
     "metadata": {},
     "output_type": "execute_result"
    }
   ],
   "source": [
    "test_mae_score"
   ]
  },
  {
   "cell_type": "markdown",
   "metadata": {},
   "source": [
    "1. 如果可用的训练数据很少，最好使用隐藏层较少（通常只有一到两个）的小型网络，以避免严重的过拟合。"
   ]
  },
  {
   "cell_type": "code",
   "execution_count": null,
   "metadata": {},
   "outputs": [],
   "source": []
  }
 ],
 "metadata": {
  "kernelspec": {
   "display_name": "Python 3",
   "language": "python",
   "name": "python3"
  },
  "language_info": {
   "codemirror_mode": {
    "name": "ipython",
    "version": 3
   },
   "file_extension": ".py",
   "mimetype": "text/x-python",
   "name": "python",
   "nbconvert_exporter": "python",
   "pygments_lexer": "ipython3",
   "version": "3.6.6"
  },
  "toc": {
   "base_numbering": 1,
   "nav_menu": {},
   "number_sections": true,
   "sideBar": true,
   "skip_h1_title": false,
   "title_cell": "Table of Contents",
   "title_sidebar": "Contents",
   "toc_cell": false,
   "toc_position": {},
   "toc_section_display": true,
   "toc_window_display": false
  },
  "varInspector": {
   "cols": {
    "lenName": 16,
    "lenType": 16,
    "lenVar": 40
   },
   "kernels_config": {
    "python": {
     "delete_cmd_postfix": "",
     "delete_cmd_prefix": "del ",
     "library": "var_list.py",
     "varRefreshCmd": "print(var_dic_list())"
    },
    "r": {
     "delete_cmd_postfix": ") ",
     "delete_cmd_prefix": "rm(",
     "library": "var_list.r",
     "varRefreshCmd": "cat(var_dic_list()) "
    }
   },
   "types_to_exclude": [
    "module",
    "function",
    "builtin_function_or_method",
    "instance",
    "_Feature"
   ],
   "window_display": false
  }
 },
 "nbformat": 4,
 "nbformat_minor": 2
}
